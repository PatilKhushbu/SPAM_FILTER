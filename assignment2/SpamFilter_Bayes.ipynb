{
 "cells": [
  {
   "cell_type": "code",
   "execution_count": 2,
   "metadata": {
    "ExecuteTime": {
     "end_time": "2018-04-29T10:26:27.072429Z",
     "start_time": "2018-04-29T10:26:26.895488Z"
    }
   },
   "outputs": [],
   "source": [
    "# Antonio Emanuele Cinà\n",
    "# Simple spam filter using Naive Bayes classifier\n",
    "import numpy as np\n",
    "from sklearn.model_selection import cross_val_score\n",
    "\n",
    "TRAINING_SET = \"spambase/spambase.data\"\n",
    "\n",
    "def load_csv(filename):\n",
    "    fread = open(filename, \"r\")\n",
    "    data = np.loadtxt(fread, delimiter=\",\")\n",
    "    return data\n",
    "\n",
    "email = load_csv(TRAINING_SET)"
   ]
  },
  {
   "cell_type": "code",
   "execution_count": 1,
   "metadata": {},
   "outputs": [
    {
     "name": "stdout",
     "output_type": "stream",
     "text": [
      " Volume in drive C is Acer\n",
      " Volume Serial Number is C09D-00FF\n",
      "\n",
      " Directory of C:\\Users\\vishr\\Downloads\\spam-filter-master\\spam-filter-master\n",
      "\n",
      "19-04-2020  11:18 AM    <DIR>          .\n",
      "19-04-2020  11:18 AM    <DIR>          ..\n",
      "05-03-2019  08:24 PM             2,359 .gitignore\n",
      "19-04-2020  11:18 AM    <DIR>          .ipynb_checkpoints\n",
      "05-03-2019  08:24 PM             4,322 analysis.R\n",
      "05-03-2019  08:24 PM             1,079 LICENSE\n",
      "05-03-2019  08:24 PM               869 README.md\n",
      "05-03-2019  08:24 PM         3,035,900 Report.pdf\n",
      "05-03-2019  08:24 PM    <DIR>          spambase\n",
      "19-04-2020  11:18 AM             8,088 SpamFilter_Bayes.ipynb\n",
      "05-03-2019  08:24 PM            21,112 SpamFilter_SVM.ipynb\n",
      "               7 File(s)      3,073,729 bytes\n",
      "               4 Dir(s)  18,125,946,880 bytes free\n"
     ]
    }
   ],
   "source": [
    "ls"
   ]
  },
  {
   "cell_type": "code",
   "execution_count": 24,
   "metadata": {
    "ExecuteTime": {
     "end_time": "2018-04-29T10:26:27.868199Z",
     "start_time": "2018-04-29T10:26:27.839358Z"
    }
   },
   "outputs": [],
   "source": [
    "from sklearn.base import BaseEstimator\n",
    "class NaiveBayesClassifier(BaseEstimator):\n",
    "\n",
    "    def score(self, X, Y):\n",
    "        p_x_spam_i = (2*np.pi*self.var_spam)**(-1./2) * np.exp(-1./(2*self.var_spam)*np.power(X-self.mu_spam,2))\n",
    "        p_x_ham_i = (2*np.pi*self.var_ham)**(-1./2) * np.exp(-1./(2*self.var_ham)*np.power(X-self.mu_ham,2))\n",
    "        \n",
    "        p_x_spam = np.prod(p_x_spam_i, axis= 1)\n",
    "        p_x_ham = np.prod(p_x_ham_i, axis= 1)\n",
    "        \n",
    "        #p_x = (p_x_spam * self.p_spam + p_x_ham * self.p_ham)# + 1e-130\n",
    "        p_spam_x = p_x_spam * self.p_spam#/p_x\n",
    "        p_ham_x = p_x_ham * self.p_ham#/p_x\n",
    "                           \n",
    "        predicted_labels = np.argmax([p_ham_x,p_spam_x], axis = 0)\n",
    "        return np.mean(predicted_labels == Y)\n",
    "\n",
    "    def fit(self, X, Y, **kwargs):\n",
    "        self.spam = X[Y == 1,:54]\n",
    "        self.ham = X[Y == 0,:54]\n",
    "        \n",
    "        self.N = float(self.spam.shape[0] + self.ham.shape[0])\n",
    "        self.k_spam = self.spam.shape[0] # frequency of spam\n",
    "        self.k_ham = self.ham.shape[0] # frequency of ham\n",
    "\n",
    "        self.p_spam = self.k_spam/self.N\n",
    "        self.p_ham = self.k_ham/self.N\n",
    "        \n",
    "        self.mu_spam = np.mean(self.spam, axis=0)\n",
    "        self.mu_ham = np.mean(self.ham, axis=0)\n",
    "        \n",
    "        # Avoid division by zero adding a small costant\n",
    "        self.var_spam = np.var(self.spam, axis=0)+1e-128\n",
    "        self.var_ham = np.var(self.ham, axis=0)+1e-128"
   ]
  },
  {
   "cell_type": "code",
   "execution_count": 25,
   "metadata": {
    "ExecuteTime": {
     "end_time": "2018-04-29T10:26:30.057351Z",
     "start_time": "2018-04-29T10:26:30.048090Z"
    }
   },
   "outputs": [],
   "source": [
    "np.random.shuffle(email)# shuffle dataset\n",
    "Y = email[:,57] \n",
    "X = email[:,:54]"
   ]
  },
  {
   "cell_type": "code",
   "execution_count": 26,
   "metadata": {
    "ExecuteTime": {
     "end_time": "2018-04-29T10:26:30.912764Z",
     "start_time": "2018-04-29T10:26:30.851944Z"
    }
   },
   "outputs": [],
   "source": [
    "scores = cross_val_score(NaiveBayesClassifier(), X, Y, cv = 10)"
   ]
  },
  {
   "cell_type": "code",
   "execution_count": 27,
   "metadata": {
    "ExecuteTime": {
     "end_time": "2018-04-29T10:26:31.595382Z",
     "start_time": "2018-04-29T10:26:31.584651Z"
    }
   },
   "outputs": [
    {
     "name": "stdout",
     "output_type": "stream",
     "text": [
      "Min Accuracy: 0.717391304347826\n",
      "\n",
      "Mean Accuracy: 0.8011303404696785\n",
      "\n",
      "Max Accuracy: 0.8521739130434782\n",
      "\n",
      "Variance/Std Accuracy: 0.0010417468231695 / 0.03227610297370952\n",
      "\n",
      "=================================\n"
     ]
    }
   ],
   "source": [
    "print(\"Min Accuracy: \" + str(scores.min())+\"\\n\")\n",
    "print(\"Mean Accuracy: \" + str(scores.mean())+\"\\n\")\n",
    "print(\"Max Accuracy: \" + str(scores.max())+\"\\n\")\n",
    "print(\"Variance/Std Accuracy: \" + str(scores.var()) +\" / \" +str(scores.std())+\"\\n\")\n",
    "\n",
    "print(\"=================================\")"
   ]
  },
  {
   "cell_type": "code",
   "execution_count": 28,
   "metadata": {
    "ExecuteTime": {
     "end_time": "2018-04-29T10:26:49.079589Z",
     "start_time": "2018-04-29T10:26:49.063962Z"
    }
   },
   "outputs": [],
   "source": [
    "# Apply 10-Way Cross validation 'run' times and get all the scores \n",
    "def eval_model(data, classifier, run = 10):\n",
    "    scores = np.array([])\n",
    "    for i in range(run):\n",
    "        np.random.shuffle(data)\n",
    "        Y = email[:,57] \n",
    "        X = email[:,:54]\n",
    "        scores = np.append(scores,cross_val_score(classifier, X, Y, cv = 10))\n",
    "    return scores"
   ]
  },
  {
   "cell_type": "code",
   "execution_count": 29,
   "metadata": {
    "ExecuteTime": {
     "end_time": "2018-04-29T10:32:10.323417Z",
     "start_time": "2018-04-29T10:32:09.431989Z"
    }
   },
   "outputs": [
    {
     "name": "stdout",
     "output_type": "stream",
     "text": [
      "Min Accuracy: 0.7065217391304348\n",
      "\n",
      "Mean Accuracy: 0.8041172073941337\n",
      "\n",
      "Max Accuracy: 0.8586956521739131\n",
      "\n",
      "Variance/Std Accuracy: 0.0009428050945681482 / 0.03070513140450873\n",
      "\n",
      "=================================\n"
     ]
    }
   ],
   "source": [
    "scores_run = eval_model(email, NaiveBayesClassifier(),run = 20)\n",
    "print(\"Min Accuracy: \" + str(scores_run.min())+\"\\n\")\n",
    "print(\"Mean Accuracy: \" + str(scores_run.mean())+\"\\n\")\n",
    "print(\"Max Accuracy: \" + str(scores_run.max())+\"\\n\")\n",
    "print(\"Variance/Std Accuracy: \" + str(scores_run.var()) +\" / \" +str(scores_run.std())+\"\\n\")\n",
    "print(\"=================================\")"
   ]
  },
  {
   "cell_type": "code",
   "execution_count": 30,
   "metadata": {
    "ExecuteTime": {
     "end_time": "2018-04-28T14:35:24.302568Z",
     "start_time": "2018-04-28T14:35:24.283736Z"
    }
   },
   "outputs": [
    {
     "name": "stdout",
     "output_type": "stream",
     "text": [
      "Accuracy: 0.8131788559015206\n"
     ]
    }
   ],
   "source": [
    "from sklearn.model_selection import train_test_split\n",
    "#from nltk import NaiveBayesClassifier\n",
    "x_train, x_test, y_train, y_test = train_test_split(X, Y, test_size=0.3)\n",
    "\n",
    "clf = NaiveBayesClassifier()\n",
    "md = clf.fit(x_train,y_train)\n",
    "\n",
    "print(\"Accuracy: \"+str(clf.score(x_test, y_test)))"
   ]
  },
  {
   "cell_type": "code",
   "execution_count": 31,
   "metadata": {
    "ExecuteTime": {
     "end_time": "2018-04-28T14:35:25.633481Z",
     "start_time": "2018-04-28T14:35:25.628676Z"
    }
   },
   "outputs": [
    {
     "name": "stdout",
     "output_type": "stream",
     "text": [
      "p(spam): 0.39285714285714285\n",
      "p(ham): 0.6071428571428571\n"
     ]
    }
   ],
   "source": [
    "print(\"p(spam): \"+str(clf.p_spam))\n",
    "print(\"p(ham): \"+str(clf.p_ham))"
   ]
  },
  {
   "cell_type": "code",
   "execution_count": 32,
   "metadata": {
    "ExecuteTime": {
     "end_time": "2018-04-28T15:20:08.225246Z",
     "start_time": "2018-04-28T15:20:08.212960Z"
    }
   },
   "outputs": [
    {
     "name": "stdout",
     "output_type": "stream",
     "text": [
      "mu spam: [1.500e-01 1.790e-01 4.090e-01 1.490e-01 5.170e-01 1.720e-01 2.770e-01\n",
      " 2.180e-01 1.720e-01 3.570e-01 1.180e-01 5.640e-01 1.500e-01 8.000e-02\n",
      " 1.190e-01 4.630e-01 2.960e-01 3.260e-01 2.273e+00 1.980e-01 1.401e+00\n",
      " 2.850e-01 2.420e-01 2.010e-01 1.600e-02 9.000e-03 2.000e-03 1.500e-02\n",
      " 0.000e+00 2.000e-03 1.000e-03 1.000e-03 1.600e-02 2.000e-03 8.000e-03\n",
      " 3.000e-02 4.700e-02 5.000e-03 1.100e-02 3.500e-02 0.000e+00 2.000e-03\n",
      " 1.000e-02 7.000e-03 1.250e-01 1.500e-02 1.000e-03 2.000e-03 2.200e-02\n",
      " 1.110e-01 9.000e-03 5.200e-01 1.770e-01 8.300e-02]\n",
      "var spam: [9.700e-02 1.410e-01 2.270e-01 4.443e+00 4.780e-01 9.900e-02 3.130e-01\n",
      " 3.470e-01 1.280e-01 4.180e-01 5.900e-02 4.130e-01 1.380e-01 8.300e-02\n",
      " 1.550e-01 7.150e-01 4.130e-01 4.800e-01 2.363e+00 4.520e-01 1.534e+00\n",
      " 2.615e+00 2.510e-01 2.510e-01 2.700e-02 9.000e-03 2.000e-03 6.500e-02\n",
      " 0.000e+00 1.000e-03 2.000e-03 0.000e+00 1.500e-02 2.000e-03 5.000e-03\n",
      " 2.200e-02 9.000e-02 3.000e-03 6.000e-03 1.900e-02 0.000e+00 1.000e-03\n",
      " 3.000e-03 4.000e-03 1.090e-01 2.000e-02 0.000e+00 1.000e-03 9.000e-03\n",
      " 1.060e-01 3.000e-03 5.840e-01 1.430e-01 3.830e-01]\n"
     ]
    }
   ],
   "source": [
    "print(\"mu spam: \"+str(np.round(clf.mu_spam,3)))\n",
    "print(\"var spam: \"+str(np.round(clf.var_spam,3)))"
   ]
  },
  {
   "cell_type": "code",
   "execution_count": 33,
   "metadata": {
    "ExecuteTime": {
     "end_time": "2018-04-28T15:24:27.896721Z",
     "start_time": "2018-04-28T15:24:27.889338Z"
    }
   },
   "outputs": [
    {
     "name": "stdout",
     "output_type": "stream",
     "text": [
      "mu spam: [7.100e-02 2.360e-01 2.040e-01 1.000e-03 1.870e-01 4.600e-02 1.200e-02\n",
      " 4.300e-02 3.800e-02 1.640e-01 2.400e-02 5.270e-01 6.800e-02 4.000e-02\n",
      " 6.000e-03 6.400e-02 4.900e-02 8.900e-02 1.284e+00 1.000e-02 4.450e-01\n",
      " 3.400e-02 8.000e-03 1.900e-02 8.900e-01 4.130e-01 1.235e+00 1.970e-01\n",
      " 1.710e-01 1.660e-01 1.060e-01 7.200e-02 1.440e-01 7.200e-02 1.790e-01\n",
      " 1.340e-01 2.010e-01 1.500e-02 1.260e-01 7.900e-02 7.500e-02 2.310e-01\n",
      " 6.800e-02 1.130e-01 4.340e-01 2.970e-01 6.000e-03 4.800e-02 4.300e-02\n",
      " 1.570e-01 2.500e-02 1.290e-01 1.200e-02 2.600e-02]\n",
      "var spam: [8.200e-02 2.600e+00 2.620e-01 0.000e+00 4.060e-01 5.000e-02 1.700e-02\n",
      " 6.200e-02 4.000e-02 3.200e-01 2.700e-02 9.580e-01 7.600e-02 8.300e-02\n",
      " 5.000e-03 1.100e-01 4.900e-02 1.220e-01 3.145e+00 1.300e-02 1.066e+00\n",
      " 2.820e-01 5.000e-03 1.010e-01 4.216e+00 1.050e+00 1.790e+01 4.140e-01\n",
      " 6.130e-01 3.190e-01 2.760e-01 1.490e-01 4.900e-01 1.490e-01 5.250e-01\n",
      " 2.120e-01 2.470e-01 6.400e-02 2.940e-01 1.650e-01 2.370e-01 1.070e+00\n",
      " 7.000e-02 4.280e-01 1.809e+00 1.275e+00 7.000e-03 1.310e-01 6.900e-02\n",
      " 6.900e-02 2.500e-02 9.420e-01 4.000e-03 8.300e-02]\n"
     ]
    }
   ],
   "source": [
    "print(\"mu spam: \"+str(np.round(clf.mu_ham,3)))\n",
    "print(\"var spam: \"+str(np.round(clf.var_ham,3)))"
   ]
  },
  {
   "cell_type": "code",
   "execution_count": null,
   "metadata": {},
   "outputs": [],
   "source": []
  },
  {
   "cell_type": "code",
   "execution_count": null,
   "metadata": {},
   "outputs": [],
   "source": []
  }
 ],
 "metadata": {
  "kernelspec": {
   "display_name": "Python 3",
   "language": "python",
   "name": "python3"
  },
  "language_info": {
   "codemirror_mode": {
    "name": "ipython",
    "version": 3
   },
   "file_extension": ".py",
   "mimetype": "text/x-python",
   "name": "python",
   "nbconvert_exporter": "python",
   "pygments_lexer": "ipython3",
   "version": "3.7.3"
  }
 },
 "nbformat": 4,
 "nbformat_minor": 2
}
